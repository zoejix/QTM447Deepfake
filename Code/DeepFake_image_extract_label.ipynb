{
 "cells": [
  {
   "cell_type": "code",
   "execution_count": 1,
   "metadata": {},
   "outputs": [],
   "source": [
    "import cv2\n",
    "import os\n",
    "import numpy as np\n",
    "import json"
   ]
  },
  {
   "cell_type": "markdown",
   "metadata": {},
   "source": [
    "Randomly sample a frame from each video"
   ]
  },
  {
   "cell_type": "code",
   "execution_count": 3,
   "metadata": {},
   "outputs": [
    {
     "name": "stdout",
     "output_type": "stream",
     "text": [
      "test_videos complete\n"
     ]
    }
   ],
   "source": [
    "video_base_path = \"C:\\\\Users\\\\Maxca\\\\Desktop\\\\deepfake_vid_test\"\n",
    "jpg_base_path = \"C:\\\\Users\\\\Maxca\\\\Desktop\\\\deepfake_jpg_test\"\n",
    "\n",
    "for folder in os.listdir(video_base_path):\n",
    "    video_folder_path = os.path.join(video_base_path, folder)\n",
    "    jpg_folder_path = os.path.join(jpg_base_path, folder)\n",
    "\n",
    "    if os.path.isdir(video_folder_path):\n",
    "        if not os.path.exists(jpg_folder_path):\n",
    "            os.makedirs(jpg_folder_path)\n",
    "\n",
    "        # Process each video file in the folder\n",
    "        for video_name in os.listdir(video_folder_path):\n",
    "            if video_name.endswith('.mp4'):\n",
    "                video_path = os.path.join(video_folder_path, video_name)\n",
    "                cap = cv2.VideoCapture(video_path)\n",
    "                \n",
    "                # Get total number of frames in the video\n",
    "                total_frames = int(cap.get(cv2.CAP_PROP_FRAME_COUNT))\n",
    "                \n",
    "                # Select a random frame\n",
    "                frame_index = np.random.randint(0, total_frames)\n",
    "                cap.set(cv2.CAP_PROP_POS_FRAMES, frame_index)\n",
    "                \n",
    "                # Read the frame\n",
    "                ret, frame = cap.read()\n",
    "                if ret:\n",
    "                    # Define the output image path with the new jpg folder\n",
    "                    output_image_path = os.path.join(jpg_folder_path, video_name.replace('.mp4', '.jpg'))\n",
    "                    # Save the frame as a JPG file\n",
    "                    cv2.imwrite(output_image_path, frame)\n",
    "                \n",
    "                # Release the video capture object\n",
    "                cap.release()\n",
    "    \n",
    "    print(f\"{folder} complete\")\n"
   ]
  },
  {
   "cell_type": "markdown",
   "metadata": {},
   "source": [
    "Add _real or _fake labels"
   ]
  },
  {
   "cell_type": "code",
   "execution_count": 10,
   "metadata": {},
   "outputs": [],
   "source": [
    "video_base_path = \"C:\\\\Users\\\\Maxca\\\\Desktop\\\\deepfake_vid\"\n",
    "jpg_base_path = \"C:\\\\Users\\\\Maxca\\\\Desktop\\\\deepfake_jpg\"\n",
    "\n",
    "for folder in os.listdir(jpg_base_path):\n",
    "    jpg_folder_path = os.path.join(jpg_base_path, folder)\n",
    "    video_folder_path = os.path.join(video_base_path, folder)\n",
    "\n",
    "    if os.path.isdir(jpg_folder_path):\n",
    "        # Load the metadata.json file\n",
    "        metadata_path = os.path.join(video_folder_path, 'metadata.json')\n",
    "        if os.path.exists(metadata_path):\n",
    "            with open(metadata_path, 'r') as file:\n",
    "                metadata = json.load(file)\n",
    "\n",
    "            # Process each file in the jpg folder\n",
    "            for image_name in os.listdir(jpg_folder_path):\n",
    "                base_video_name = image_name.replace('.jpg', '.mp4')\n",
    "                if base_video_name in metadata:\n",
    "                    # Determine the new name based on the label\n",
    "                    label_suffix = '_fake' if metadata[base_video_name]['label'] == 'FAKE' else '_real'\n",
    "                    new_image_name = image_name.replace('.jpg', f'{label_suffix}.jpg')\n",
    "                    current_image_path = os.path.join(jpg_folder_path, image_name)\n",
    "                    new_image_path = os.path.join(jpg_folder_path, new_image_name)\n",
    "                    # Rename the image file\n",
    "                    os.rename(current_image_path, new_image_path)"
   ]
  }
 ],
 "metadata": {
  "kernelspec": {
   "display_name": "Python 3",
   "language": "python",
   "name": "python3"
  },
  "language_info": {
   "codemirror_mode": {
    "name": "ipython",
    "version": 3
   },
   "file_extension": ".py",
   "mimetype": "text/x-python",
   "name": "python",
   "nbconvert_exporter": "python",
   "pygments_lexer": "ipython3",
   "version": "3.11.4"
  }
 },
 "nbformat": 4,
 "nbformat_minor": 2
}
